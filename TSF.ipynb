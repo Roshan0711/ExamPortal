{
  "nbformat": 4,
  "nbformat_minor": 0,
  "metadata": {
    "colab": {
      "name": "Untitled2.ipynb",
      "provenance": [],
      "collapsed_sections": [],
      "authorship_tag": "ABX9TyPwQleLWlrAivRQaKhVoKmQ",
      "include_colab_link": true
    },
    "kernelspec": {
      "name": "python3",
      "display_name": "Python 3"
    },
    "language_info": {
      "name": "python"
    }
  },
  "cells": [
    {
      "cell_type": "markdown",
      "metadata": {
        "id": "view-in-github",
        "colab_type": "text"
      },
      "source": [
        "<a href=\"https://colab.research.google.com/github/Roshan0711/Roshan0711/blob/main/TSF.ipynb\" target=\"_parent\"><img src=\"https://colab.research.google.com/assets/colab-badge.svg\" alt=\"Open In Colab\"/></a>"
      ]
    },
    {
      "cell_type": "code",
      "metadata": {
        "colab": {
          "base_uri": "https://localhost:8080/",
          "height": 652
        },
        "id": "T6L_DTynbEdD",
        "outputId": "06aa2450-2860-479a-cffd-c410904dbd25"
      },
      "source": [
        "#Predict the percentage of an student based on the no. of study hours.\n",
        "\n",
        "\n",
        "import pandas as pd \n",
        "import numpy as np  \n",
        "import matplotlib.pyplot as plt\n",
        "%matplotlib inline\n",
        "\n",
        "student_data = pd.read_csv(\"http://bit.ly/w-data\") # loading the data from the link given by the TSF\n",
        "\n",
        "student_data.shape \n",
        "\n",
        "student_data.head()\n",
        "\n",
        "student_data.describe()\n",
        "\n",
        "student_data.corr()\n",
        "\n",
        "student_data.info()\n",
        "\n",
        "student_data.plot(kind='scatter',x='Hours',y='Scores')\n",
        "plt.title(\"Hours vs Scores\")    # plotting the scatter plot for the dataset\n",
        "\n",
        "X = student_data.iloc[:, :-1].values  \n",
        "Y = student_data.iloc[:, 1].values   # storing  the variables valuesin the another variable \n",
        "\n",
        "#Splitting the data set as Training and testing set\n",
        "from sklearn.model_selection import train_test_split\n",
        "X_train, X_test, Y_train, Y_test = train_test_split(X, Y, test_size =0.2, random_state=0)\n",
        "\n",
        "\n",
        "#Fitting  simple linear Regression using Training set\n",
        "from sklearn.linear_model import LinearRegression\n",
        "model = LinearRegression()\n",
        "model.fit(X_train,Y_train)\n",
        "\n",
        "#Predicting the values of test set\n",
        "Score_prediction = model.predict(X_train)\n",
        "\n",
        "print(model.coef_) # printing the co-efficient\n",
        "\n",
        "print(model.intercept_) # intercept of the model\n",
        "\n",
        "#Visualizing the Training data set results using graph\n",
        "plt.scatter(X_train, Y_train, color= 'blue')\n",
        "plt.plot(X_train, model.predict(X_train), color = 'red')\n",
        "plt.title('Hours vs Scores(Training Data Set)')\n",
        "plt.xlabel('Hours')\n",
        "plt.ylabel('Scores')\n",
        "plt.show()\n",
        "\n",
        "#Predicting the value of score using hour that is alredy in the data set\n",
        "model.predict([[5.1]])\n",
        "\n",
        "#Actual values of the  test set\n",
        "Y_test\n",
        "\n",
        "#Calculating the predicted values of the X_test\n",
        "Y_predict=model.predict(X_test)\n",
        "\n",
        "Y_predict\n",
        "\n",
        "#Data frame for the Actual and predicted values\n",
        "dfrm= pd.DataFrame(Y_test,Y_predict)\n",
        "\n",
        "df1 = pd.DataFrame({'Actual':Y_test, 'Predicted':Y_predict})\n",
        "df1\n",
        "\n",
        "#Given Test data\n",
        "Hrs = 7.31\n",
        "predct = model.predict([[Hrs]])\n",
        "print(\"Number of hours: \",Hrs)\n",
        "print(\"Predicted scores: \",predct)\n",
        "\n",
        "#Given Test data\n",
        "Hrs = 5\n",
        "predct = model.predict([[Hrs]])\n",
        "print(\"Number of hours: \",Hrs)\n",
        "print(\"Predicted scores: \",predct)\n",
        "\n",
        "#Given Test data\n",
        "Hrs = 9.25\n",
        "predct = model.predict([[Hrs]])\n",
        "print(\"Number of hours: \",Hrs)\n",
        "print(\"Predicted scores: \",predct)\n",
        "\n",
        "\n",
        "\n",
        "import sklearn.metrics as metrics \n",
        "from sklearn.metrics import confusion_matrix, accuracy_score\n",
        "import math\n",
        "print(\"Mean Absolute error :\",metrics.mean_absolute_error(Y_test,Y_predict))#It will give the mean errorof  the model\n",
        "print(\"Mean Squared Error:\",metrics.mean_squared_error(Y_test,Y_predict))\n",
        "print(\"Root Mean Squared Error:\",math.sqrt(metrics.mean_squared_error(Y_test,Y_predict)))\n",
        "\n",
        "model.score(X_test,Y_test) # checking the score of the model"
      ],
      "execution_count": 8,
      "outputs": [
        {
          "output_type": "stream",
          "text": [
            "<class 'pandas.core.frame.DataFrame'>\n",
            "RangeIndex: 25 entries, 0 to 24\n",
            "Data columns (total 2 columns):\n",
            " #   Column  Non-Null Count  Dtype  \n",
            "---  ------  --------------  -----  \n",
            " 0   Hours   25 non-null     float64\n",
            " 1   Scores  25 non-null     int64  \n",
            "dtypes: float64(1), int64(1)\n",
            "memory usage: 528.0 bytes\n",
            "[9.91065648]\n",
            "2.018160041434662\n"
          ],
          "name": "stdout"
        },
        {
          "output_type": "display_data",
          "data": {
            "image/png": "[encoded data removed]",
            "text/plain": [
              "<Figure size 432x288 with 1 Axes>"
            ]
          },
          "metadata": {
            "tags": [],
            "needs_background": "light"
          }
        },
        {
          "output_type": "stream",
          "text": [
            "Number of hours:  7.31\n",
            "Predicted scores:  [74.46505891]\n",
            "Number of hours:  5\n",
            "Predicted scores:  [51.57144244]\n",
            "Number of hours:  9.25\n",
            "Predicted scores:  [93.69173249]\n",
            "Mean Absolute error : 4.183859899002982\n",
            "Mean Squared Error: 21.598769307217456\n",
            "Root Mean Squared Error: 4.647447612100373\n"
          ],
          "name": "stdout"
        },
        {
          "output_type": "execute_result",
          "data": {
            "text/plain": [
              "0.9454906892105354"
            ]
          },
          "metadata": {
            "tags": []
          },
          "execution_count": 8
        }
      ]
    }
  ]
}